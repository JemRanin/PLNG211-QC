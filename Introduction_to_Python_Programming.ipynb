{
  "nbformat": 4,
  "nbformat_minor": 0,
  "metadata": {
    "colab": {
      "provenance": [],
      "collapsed_sections": [],
      "authorship_tag": "ABX9TyPrrWsiaTlEw4o8glF7nonG",
      "include_colab_link": true
    },
    "kernelspec": {
      "name": "python3",
      "display_name": "Python 3"
    },
    "language_info": {
      "name": "python"
    }
  },
  "cells": [
    {
      "cell_type": "markdown",
      "metadata": {
        "id": "view-in-github",
        "colab_type": "text"
      },
      "source": [
        "<a href=\"https://colab.research.google.com/github/JemRanin/PLNG211-QC/blob/main/Introduction_to_Python_Programming.ipynb\" target=\"_parent\"><img src=\"https://colab.research.google.com/assets/colab-badge.svg\" alt=\"Open In Colab\"/></a>"
      ]
    },
    {
      "cell_type": "markdown",
      "source": [
        "Python Identation"
      ],
      "metadata": {
        "id": "l-Jc-hNW_krR"
      }
    },
    {
      "cell_type": "code",
      "source": [
        "#Example of Python Identation\n",
        "\n",
        "if 5<2:\n",
        "  print(\"five is greater than two\")\n",
        "  \n"
      ],
      "metadata": {
        "id": "QyJbRvUH_qnd"
      },
      "execution_count": null,
      "outputs": []
    },
    {
      "cell_type": "markdown",
      "source": [
        "Python Variable"
      ],
      "metadata": {
        "id": "hk7mpnODAYir"
      }
    },
    {
      "cell_type": "code",
      "source": [
        "x = 1\n",
        "a,b = 0,-1\n",
        "a = 9\n",
        "c = \"Sally\"\n",
        "c = \" Danny\"\n",
        "print (a)\n",
        "print(c)\n",
        "c = \"Maria\"\n",
        "print (c)\n"
      ],
      "metadata": {
        "colab": {
          "base_uri": "https://localhost:8080/"
        },
        "id": "HQMvB33gAb-v",
        "outputId": "db29fecd-ab1a-48c4-e8f2-6dd531a831bb"
      },
      "execution_count": null,
      "outputs": [
        {
          "output_type": "stream",
          "name": "stdout",
          "text": [
            "9\n",
            " Danny\n",
            "Maria\n"
          ]
        }
      ]
    },
    {
      "cell_type": "markdown",
      "source": [
        "Casting"
      ],
      "metadata": {
        "id": "5ZhahpI3A6JJ"
      }
    },
    {
      "cell_type": "code",
      "source": [
        "d = int(4)\n",
        "print(d)\n",
        "e =  float (4)\n",
        "print (e)"
      ],
      "metadata": {
        "colab": {
          "base_uri": "https://localhost:8080/"
        },
        "id": "wjpgQTjfA8DQ",
        "outputId": "db82674b-8cf2-4a29-c8e3-7e893e6bd8ca"
      },
      "execution_count": null,
      "outputs": [
        {
          "output_type": "stream",
          "name": "stdout",
          "text": [
            "4\n",
            "4.0\n"
          ]
        }
      ]
    },
    {
      "cell_type": "markdown",
      "source": [
        "Type () function"
      ],
      "metadata": {
        "id": "8fQmcZUWBWEl"
      }
    },
    {
      "cell_type": "code",
      "source": [
        "print (type(d))\n",
        "print (type(e))"
      ],
      "metadata": {
        "colab": {
          "base_uri": "https://localhost:8080/"
        },
        "id": "L1gdSOm9BZEf",
        "outputId": "d40cafde-03d7-4eee-ab3a-f14688fe7f9c"
      },
      "execution_count": null,
      "outputs": [
        {
          "output_type": "stream",
          "name": "stdout",
          "text": [
            "<class 'int'>\n",
            "<class 'float'>\n"
          ]
        }
      ]
    },
    {
      "cell_type": "markdown",
      "source": [
        "Single Quote or Double Quote\n"
      ],
      "metadata": {
        "id": "JjbzAAPWBfGm"
      }
    },
    {
      "cell_type": "code",
      "source": [
        "f = \"Maria\"\n",
        "print (f)\n",
        "g = 'Ana'\n",
        "print(g)\n"
      ],
      "metadata": {
        "colab": {
          "base_uri": "https://localhost:8080/"
        },
        "id": "OyDpGFkQBlEs",
        "outputId": "52558639-8b18-4ef5-af3b-533eef0a4aad"
      },
      "execution_count": null,
      "outputs": [
        {
          "output_type": "stream",
          "name": "stdout",
          "text": [
            "Maria\n",
            "Ana\n"
          ]
        }
      ]
    },
    {
      "cell_type": "markdown",
      "source": [
        "Multiple Variables"
      ],
      "metadata": {
        "id": "06sEnRsgBtlq"
      }
    },
    {
      "cell_type": "code",
      "source": [
        "x,y,z = 4,5,6\n",
        "print(x)\n",
        "print(y)\n",
        "print(z) "
      ],
      "metadata": {
        "colab": {
          "base_uri": "https://localhost:8080/"
        },
        "id": "wg0w6skMBwKF",
        "outputId": "a1c2198d-0154-4037-9adc-c3f8cdac78a4"
      },
      "execution_count": null,
      "outputs": [
        {
          "output_type": "stream",
          "name": "stdout",
          "text": [
            "4\n",
            "5\n",
            "6\n"
          ]
        }
      ]
    },
    {
      "cell_type": "markdown",
      "source": [
        "Single to Multiple Variables\n"
      ],
      "metadata": {
        "id": "cJuLFGQUB7wr"
      }
    },
    {
      "cell_type": "code",
      "source": [
        "x=y=z=\"Lilo\"\n",
        "print(x)\n",
        "print(y)\n",
        "print(z) "
      ],
      "metadata": {
        "colab": {
          "base_uri": "https://localhost:8080/"
        },
        "id": "0oKBWXIoCFG2",
        "outputId": "8840082e-812c-4e37-d60b-fc853c3b142d"
      },
      "execution_count": null,
      "outputs": [
        {
          "output_type": "stream",
          "name": "stdout",
          "text": [
            "Lilo\n",
            "Lilo\n",
            "Lilo\n"
          ]
        }
      ]
    },
    {
      "cell_type": "markdown",
      "source": [
        "Output Variable using Print and +"
      ],
      "metadata": {
        "id": "_ABJrwLiCJcS"
      }
    },
    {
      "cell_type": "code",
      "source": [
        "s = \"Python is\"\n",
        "t = \"enjoying\"\n",
        "print (\"Python is \"+t)\n",
        "print(s+ \" \" +t)"
      ],
      "metadata": {
        "colab": {
          "base_uri": "https://localhost:8080/"
        },
        "id": "A4BELAe4CNL2",
        "outputId": "b2bb028f-1e1d-4404-f288-6f2fadc286d3"
      },
      "execution_count": null,
      "outputs": [
        {
          "output_type": "stream",
          "name": "stdout",
          "text": [
            "Python is enjoying\n",
            "Python is enjoying\n"
          ]
        }
      ]
    },
    {
      "cell_type": "markdown",
      "source": [
        "Arithmetic"
      ],
      "metadata": {
        "id": "7hn_rioXCrmP"
      }
    },
    {
      "cell_type": "code",
      "source": [
        "x = 1 \n",
        "y = 2\n",
        "sum = x+y\n",
        "print(x)\n",
        "print(sum)\n",
        "\n",
        "#modulo division\n",
        "l = 4%2\n",
        "print(\"4%2=\",l)\n",
        "\n",
        "k = 4//2\n",
        "print(\"3%2=\",k)\n"
      ],
      "metadata": {
        "colab": {
          "base_uri": "https://localhost:8080/"
        },
        "id": "2K2ZCoDRCt8W",
        "outputId": "90fafe37-1107-4b51-8f69-e6d26d0bfe45"
      },
      "execution_count": null,
      "outputs": [
        {
          "output_type": "stream",
          "name": "stdout",
          "text": [
            "1\n",
            "3\n",
            "4%2= 0\n",
            "3%2= 2\n"
          ]
        }
      ]
    },
    {
      "cell_type": "markdown",
      "source": [
        "Assignment Operator"
      ],
      "metadata": {
        "id": "mzBILpYPDNSa"
      }
    },
    {
      "cell_type": "code",
      "source": [
        "x = 1\n",
        "x+=1\n",
        "print(x)\n"
      ],
      "metadata": {
        "colab": {
          "base_uri": "https://localhost:8080/"
        },
        "id": "4rRC156VDP31",
        "outputId": "4718158d-88f7-4031-e580-c303a00e3dfb"
      },
      "execution_count": null,
      "outputs": [
        {
          "output_type": "stream",
          "name": "stdout",
          "text": [
            "2\n"
          ]
        }
      ]
    },
    {
      "cell_type": "markdown",
      "source": [
        "Logical Operator"
      ],
      "metadata": {
        "id": "SS4SmeLwDURy"
      }
    },
    {
      "cell_type": "code",
      "source": [
        "q = 1\n",
        "r = 4\n",
        "q>r and r==r"
      ],
      "metadata": {
        "colab": {
          "base_uri": "https://localhost:8080/"
        },
        "id": "GX2-K4kjDUpm",
        "outputId": "21345d75-bb03-4684-e5c8-d54f30f7a62d"
      },
      "execution_count": null,
      "outputs": [
        {
          "output_type": "execute_result",
          "data": {
            "text/plain": [
              "False"
            ]
          },
          "metadata": {},
          "execution_count": 25
        }
      ]
    }
  ]
}