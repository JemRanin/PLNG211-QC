{
  "nbformat": 4,
  "nbformat_minor": 0,
  "metadata": {
    "colab": {
      "provenance": [],
      "authorship_tag": "ABX9TyPUaxkyTcTaXl/14CKYS/BM",
      "include_colab_link": true
    },
    "kernelspec": {
      "name": "python3",
      "display_name": "Python 3"
    },
    "language_info": {
      "name": "python"
    }
  },
  "cells": [
    {
      "cell_type": "markdown",
      "metadata": {
        "id": "view-in-github",
        "colab_type": "text"
      },
      "source": [
        "<a href=\"https://colab.research.google.com/github/JemRanin/PLNG211-QC/blob/main/Laboratory_Activity_No_2.ipynb\" target=\"_parent\"><img src=\"https://colab.research.google.com/assets/colab-badge.svg\" alt=\"Open In Colab\"/></a>"
      ]
    },
    {
      "cell_type": "code",
      "source": [
        "class Student:\n",
        "\n",
        "  def __init__(student, Name, Student_No , Age, School, Course):\n",
        "    student.name = Name\n",
        "    student.Student_No = Student_No\n",
        "    student.Age = Age\n",
        "    student.School = School\n",
        "    student.Course = Course\n",
        "\n",
        "  def info(student):\n",
        "    print(\"Name:\",student.name)\n",
        "    print(\"Student Number:\",student.Student_No)\n",
        "    print(\"Age:\",student.Age)\n",
        "    print(\"School:\", student.School)\n",
        "    print(\"Course:\", student.Course)\n",
        "\n",
        "Myself = Student(\"Jemar Carambacan Ranin\", \"19-1189-639\", 20, \"OLFU\", \"BSCS\")\n",
        "Myself.info()"
      ],
      "metadata": {
        "colab": {
          "base_uri": "https://localhost:8080/"
        },
        "id": "sUVb6EZwazB1",
        "outputId": "1cbb3046-e15e-4baa-e4fc-240bcc523640"
      },
      "execution_count": 4,
      "outputs": [
        {
          "output_type": "stream",
          "name": "stdout",
          "text": [
            "Name: Jemar Carambacan Ranin\n",
            "Student Number: 19-1189-639\n",
            "Age: 20\n",
            "School: OLFU\n",
            "Course: BSCS\n"
          ]
        }
      ]
    }
  ]
}