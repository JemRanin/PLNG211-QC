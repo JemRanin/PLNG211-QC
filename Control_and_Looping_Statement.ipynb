{
  "nbformat": 4,
  "nbformat_minor": 0,
  "metadata": {
    "colab": {
      "provenance": [],
      "authorship_tag": "ABX9TyMTl/N3nfXi4yVl+Taqbw6D",
      "include_colab_link": true
    },
    "kernelspec": {
      "name": "python3",
      "display_name": "Python 3"
    },
    "language_info": {
      "name": "python"
    }
  },
  "cells": [
    {
      "cell_type": "markdown",
      "metadata": {
        "id": "view-in-github",
        "colab_type": "text"
      },
      "source": [
        "<a href=\"https://colab.research.google.com/github/JemRanin/PLNG211-QC/blob/main/Control_and_Looping_Statement.ipynb\" target=\"_parent\"><img src=\"https://colab.research.google.com/assets/colab-badge.svg\" alt=\"Open In Colab\"/></a>"
      ]
    },
    {
      "cell_type": "code",
      "execution_count": 19,
      "metadata": {
        "id": "WL18rq-JdP5a"
      },
      "outputs": [],
      "source": [
        "#If Statement\n",
        "a = 100\n",
        "b = 100\n",
        "if a < b:\n",
        "  print (\"a is less than b\")"
      ]
    },
    {
      "cell_type": "code",
      "source": [
        "#Elif Statement\n",
        "if a<b:\n",
        "  print('a is less than b')\n",
        "elif a>b:\n",
        "   print(\"a is greater than b\") "
      ],
      "metadata": {
        "colab": {
          "base_uri": "https://localhost:8080/"
        },
        "id": "f3vGnsmQf-WL",
        "outputId": "f11cc2e9-fed7-44a4-b90a-8d8922829ebe"
      },
      "execution_count": 16,
      "outputs": [
        {
          "output_type": "stream",
          "name": "stdout",
          "text": [
            "a is less than b\n"
          ]
        }
      ]
    },
    {
      "cell_type": "code",
      "source": [
        "if a<b:\n",
        "  print('a is less than b')\n",
        "elif a>b:\n",
        "  print(\"a is greater than b\")\n",
        "else:\n",
        "  print('a is equal to b')    "
      ],
      "metadata": {
        "colab": {
          "base_uri": "https://localhost:8080/"
        },
        "id": "oSOjP8kQhsb4",
        "outputId": "e0c760d9-67ee-4b88-ac1f-d1dc0db9228d"
      },
      "execution_count": 20,
      "outputs": [
        {
          "output_type": "stream",
          "name": "stdout",
          "text": [
            "a is equal to b\n"
          ]
        }
      ]
    },
    {
      "cell_type": "code",
      "source": [
        "#Short Hand If Statement\n",
        "c = 5\n",
        "d = 10\n",
        "if c<d: print(\"c<d\")"
      ],
      "metadata": {
        "colab": {
          "base_uri": "https://localhost:8080/"
        },
        "id": "veOXLfG6iVTg",
        "outputId": "8abb10a0-1f9c-4b1a-a8ca-90035e151cce"
      },
      "execution_count": 21,
      "outputs": [
        {
          "output_type": "stream",
          "name": "stdout",
          "text": [
            "c<d\n"
          ]
        }
      ]
    },
    {
      "cell_type": "code",
      "source": [
        "#Short Hand If Else Statement\n",
        "print('c<d') if c>d else print ('d>c')"
      ],
      "metadata": {
        "colab": {
          "base_uri": "https://localhost:8080/"
        },
        "id": "CPqbcN9nil19",
        "outputId": "4df139dc-321e-4fe1-d595-c4828ae83278"
      },
      "execution_count": 23,
      "outputs": [
        {
          "output_type": "stream",
          "name": "stdout",
          "text": [
            "d>c\n"
          ]
        }
      ]
    },
    {
      "cell_type": "code",
      "source": [
        "#And Statement\n",
        "if 5>10 and 8>4:\n",
        "  print(\"both statement are true\")\n",
        "else:\n",
        "  print(\"One of the operands statement is false / both statements are not true\")"
      ],
      "metadata": {
        "colab": {
          "base_uri": "https://localhost:8080/"
        },
        "id": "kTlVNZGsi6hs",
        "outputId": "fa3f457a-4f58-4d6e-e05a-c337e3759f4b"
      },
      "execution_count": 24,
      "outputs": [
        {
          "output_type": "stream",
          "name": "stdout",
          "text": [
            "One of the operands statement is false / both statements are not true\n"
          ]
        }
      ]
    },
    {
      "cell_type": "code",
      "source": [
        "#Or Statement\n",
        "if 5>10 or 8>4:\n",
        "  print('True')\n",
        "else:\n",
        "  print('False')"
      ],
      "metadata": {
        "colab": {
          "base_uri": "https://localhost:8080/"
        },
        "id": "0A4gFsE2jWme",
        "outputId": "9e7556af-5a09-4e41-97e0-a7a4986a7232"
      },
      "execution_count": 25,
      "outputs": [
        {
          "output_type": "stream",
          "name": "stdout",
          "text": [
            "True\n"
          ]
        }
      ]
    },
    {
      "cell_type": "code",
      "source": [
        "#Bitwise Operator ^ (xor)\n",
        "e = 4     #0100 in binary\n",
        "f = 2\n",
        "e^f"
      ],
      "metadata": {
        "colab": {
          "base_uri": "https://localhost:8080/"
        },
        "id": "ULB34VFqjmUk",
        "outputId": "0177e9e2-ce48-4341-d3e9-725ed5cd6907"
      },
      "execution_count": 26,
      "outputs": [
        {
          "output_type": "execute_result",
          "data": {
            "text/plain": [
              "6"
            ]
          },
          "metadata": {},
          "execution_count": 26
        }
      ]
    },
    {
      "cell_type": "code",
      "source": [
        "#Nested If\n",
        "x = 39\n",
        "if x > 10:\n",
        "  print(\"number is above ten\")\n",
        "  if x > 20:\n",
        "    print(\"number is above 20\")\n",
        "    if x > 30:\n",
        "      print(\"number is above 30\")\n",
        "      if x > 40:\n",
        "        print(\"number is above 40\")\n",
        "        if x > 50:\n",
        "          print(\"number is above 50\")\n",
        "        else:\n",
        "           print(\"the number is less than 50\")\n",
        "      else:\n",
        "        print(\"the number is less than 40\")\n"
      ],
      "metadata": {
        "colab": {
          "base_uri": "https://localhost:8080/"
        },
        "id": "4ThL5C_Ej2yF",
        "outputId": "5742f4b2-74ef-4379-c115-58965cf8738f"
      },
      "execution_count": 28,
      "outputs": [
        {
          "output_type": "stream",
          "name": "stdout",
          "text": [
            "number is above ten\n",
            "number is above 20\n",
            "number is above 30\n",
            "the number is less than 40\n"
          ]
        }
      ]
    },
    {
      "cell_type": "code",
      "source": [
        "#For Loop Statement\n",
        "week = [\"Sunday\", \"Monday\", \"Tuesday\", \"Wednesday\", \"Thursday\", \"Friday\", \"Saturday\"]\n",
        "for y in week:\n",
        "  print(y)\n",
        "  if y == \"Thursday\":\n",
        "    break"
      ],
      "metadata": {
        "colab": {
          "base_uri": "https://localhost:8080/"
        },
        "id": "JlHyHCAooApU",
        "outputId": "2fab4a2c-6251-434f-e158-b4d803bd2938"
      },
      "execution_count": 32,
      "outputs": [
        {
          "output_type": "stream",
          "name": "stdout",
          "text": [
            "Sunday\n",
            "Monday\n",
            "Tuesday\n",
            "Wednesday\n",
            "Thursday\n"
          ]
        }
      ]
    },
    {
      "cell_type": "code",
      "source": [
        "week = [\"Sunday\", \"Monday\", \"Tuesday\", \"Wednesday\", \"Thursday\", \"Friday\", \"Saturday\"]\n",
        "for y in week:\n",
        "  if y == \"Thursday\":\n",
        "    break\n",
        "  print(y)"
      ],
      "metadata": {
        "colab": {
          "base_uri": "https://localhost:8080/"
        },
        "id": "BIaJpkcEpChg",
        "outputId": "dd233962-6e6f-41fe-a3ad-e77989c39ca9"
      },
      "execution_count": 33,
      "outputs": [
        {
          "output_type": "stream",
          "name": "stdout",
          "text": [
            "Sunday\n",
            "Monday\n",
            "Tuesday\n",
            "Wednesday\n"
          ]
        }
      ]
    },
    {
      "cell_type": "code",
      "source": [
        "for y in \"week\":\n",
        "  print(y)\n",
        "  "
      ],
      "metadata": {
        "colab": {
          "base_uri": "https://localhost:8080/"
        },
        "id": "rCWeJqEGpEZG",
        "outputId": "8510e306-06fb-4268-9b5b-c4c470545aeb"
      },
      "execution_count": 34,
      "outputs": [
        {
          "output_type": "stream",
          "name": "stdout",
          "text": [
            "w\n",
            "e\n",
            "e\n",
            "k\n"
          ]
        }
      ]
    },
    {
      "cell_type": "code",
      "source": [
        "#Range in Function\n",
        "for x in range (6):\n",
        "  print(x)"
      ],
      "metadata": {
        "colab": {
          "base_uri": "https://localhost:8080/"
        },
        "id": "R1ScAly4pPfE",
        "outputId": "2c5b4973-bd4c-4807-d0f9-c89bffb0ae32"
      },
      "execution_count": 35,
      "outputs": [
        {
          "output_type": "stream",
          "name": "stdout",
          "text": [
            "0\n",
            "1\n",
            "2\n",
            "3\n",
            "4\n",
            "5\n"
          ]
        }
      ]
    },
    {
      "cell_type": "code",
      "source": [
        "for x in range (2,6+1,1):\n",
        "  print(x)"
      ],
      "metadata": {
        "colab": {
          "base_uri": "https://localhost:8080/"
        },
        "id": "UnhOdCMdpbyY",
        "outputId": "101d000f-d997-4a4b-b7f2-e008814f1130"
      },
      "execution_count": 36,
      "outputs": [
        {
          "output_type": "stream",
          "name": "stdout",
          "text": [
            "2\n",
            "3\n",
            "4\n",
            "5\n",
            "6\n"
          ]
        }
      ]
    },
    {
      "cell_type": "code",
      "source": [
        "adjective = [\"red\", \"big\", \"tasty\"]\n",
        "fruit = [\"apple\", \"banana\", \"cherry\"]\n",
        "for x in adjective:\n",
        "  for y in fruit:\n",
        "    print(x,y)"
      ],
      "metadata": {
        "colab": {
          "base_uri": "https://localhost:8080/"
        },
        "id": "zC1tOtyhplAu",
        "outputId": "06f0e6db-431f-44d6-d5ee-b2d4a27ee556"
      },
      "execution_count": 37,
      "outputs": [
        {
          "output_type": "stream",
          "name": "stdout",
          "text": [
            "red apple\n",
            "red banana\n",
            "red cherry\n",
            "big apple\n",
            "big banana\n",
            "big cherry\n",
            "tasty apple\n",
            "tasty banana\n",
            "tasty cherry\n"
          ]
        }
      ]
    },
    {
      "cell_type": "code",
      "source": [
        "i = 1\n",
        "while i <= 6:\n",
        "  print (i)\n",
        "  i += 1 #1 = 1+1\n",
        "  "
      ],
      "metadata": {
        "colab": {
          "base_uri": "https://localhost:8080/"
        },
        "id": "OvW3KiY7qI-z",
        "outputId": "c4812955-fa66-49f6-a019-21ad41cbf4b9"
      },
      "execution_count": 38,
      "outputs": [
        {
          "output_type": "stream",
          "name": "stdout",
          "text": [
            "1\n",
            "2\n",
            "3\n",
            "4\n",
            "5\n",
            "6\n"
          ]
        }
      ]
    },
    {
      "cell_type": "code",
      "source": [],
      "metadata": {
        "id": "YX5ACd4Jqakz"
      },
      "execution_count": null,
      "outputs": []
    },
    {
      "cell_type": "markdown",
      "source": [
        "ACTIVITY"
      ],
      "metadata": {
        "id": "XHcxVU-gq6Jc"
      }
    },
    {
      "cell_type": "code",
      "source": [
        "#Write a program that determines if the input age is qualified to vote or not.\n",
        "#The qualifying age is 18 years old and above\n",
        "\n",
        "x = 18\n",
        "age = input(\"Enter your Age:\")\n",
        "if int(age)>=x:\n",
        "  print(\"You can vote now.\")\n",
        "else:\n",
        "  print( \"You are not allowed to vote.\")"
      ],
      "metadata": {
        "colab": {
          "base_uri": "https://localhost:8080/"
        },
        "id": "rKITfeOgq8xy",
        "outputId": "844cbd22-a342-4e81-8354-4e7d57046053"
      },
      "execution_count": 39,
      "outputs": [
        {
          "output_type": "stream",
          "name": "stdout",
          "text": [
            "Enter your Age:20\n",
            "You can vote now.\n"
          ]
        }
      ]
    },
    {
      "cell_type": "code",
      "source": [
        "#Application 2. Write a program that determines if the input is POSITIVE, NEGATIVE, or ZERO\n",
        "\n",
        "num = input(\"Enter number: \")\n",
        "if int(num) > 0:\n",
        "  print(\"IT IS POSITIVE!\")\n",
        "elif int(num) < 0:\n",
        "  print(\"IT IS NEGATIVE!\")\n",
        "else:\n",
        "  print(\"IT IS ZERO!\")"
      ],
      "metadata": {
        "colab": {
          "base_uri": "https://localhost:8080/"
        },
        "id": "jjQ7USvHrsso",
        "outputId": "05b529c9-67fd-4373-f22f-a0b20df5108a"
      },
      "execution_count": 40,
      "outputs": [
        {
          "output_type": "stream",
          "name": "stdout",
          "text": [
            "Enter number: 5\n",
            "IT IS POSITIVE!\n"
          ]
        }
      ]
    },
    {
      "cell_type": "code",
      "source": [
        "#Using while loop and break statement, the output is only 3\n",
        "i = 1\n",
        "while i <= 6:\n",
        "    if i == 3:\n",
        "      print(i)\n",
        "      break\n",
        "\n",
        "    i += 1"
      ],
      "metadata": {
        "colab": {
          "base_uri": "https://localhost:8080/"
        },
        "id": "JESyYqqWsaJj",
        "outputId": "11f46b51-2f6f-4012-d41f-eb4570cf67c6"
      },
      "execution_count": 47,
      "outputs": [
        {
          "output_type": "stream",
          "name": "stdout",
          "text": [
            "3\n"
          ]
        }
      ]
    }
  ]
}